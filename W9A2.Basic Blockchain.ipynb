{
 "cells": [
  {
   "cell_type": "markdown",
   "id": "3867bdf5-7131-4839-8e28-ecd397cf6d80",
   "metadata": {},
   "source": [
    "### Basic Blockchain in Python\n",
    "In this assignment we will seek to reproduce some of the Blockchain mechanisms found in Bitcoin in a short series of classes written in Python."
   ]
  },
  {
   "cell_type": "code",
   "execution_count": 1,
   "id": "292bfedd-a0b8-4f16-b83a-2d4ee0261b51",
   "metadata": {},
   "outputs": [],
   "source": [
    "#import necessary packages\n",
    "\n",
    "import hashlib\n",
    "import json\n",
    "import time\n"
   ]
  },
  {
   "cell_type": "code",
   "execution_count": 2,
   "id": "303f2429-cea8-419d-8522-d3687ede23c6",
   "metadata": {},
   "outputs": [],
   "source": [
    "#Details of transactions\n",
    "\n",
    "tx_1 = {\n",
    "   \"addr_from\": \"3J98t1WpEZ73CNmQviecrnyiWrnqRhWNLy\",\n",
    "   \"addr_to\": \"1BvBMSEYstWetqTFn5Au4m4GFg7xJaNVN2\",   \n",
    "   \"amount\": 99.00\n",
    "}\n",
    "\n",
    "tx_2 = {\n",
    "   \"addr_from\": \"1BvBMSEYstWetqTFn5Au4m4GFg7xJaNVN2\",\n",
    "   \"addr_to\": \"3J98t1WpEZ73CNmQviecrnyiWrnqRhWNLy\",   \n",
    "   \"amount\": 99.00\n",
    "}\n",
    "tx_3 = {\n",
    "   \"addr_from\": \"FintechStudentAddr\",\n",
    "   \"addr_to\": \"BlackBelts\",   \n",
    "   \"amount\": 9999.99\n",
    "}"
   ]
  },
  {
   "cell_type": "code",
   "execution_count": 3,
   "id": "f6fbe1ac-9bf6-448d-a84b-78f90b8c13cf",
   "metadata": {},
   "outputs": [],
   "source": [
    "#Define Block class\n",
    "#And Define it's constructor and properties.\n",
    "\n",
    "class Block():\n",
    "    def __init__(self,\n",
    "                 index:int = 0,\n",
    "                 transactions:list = [],\n",
    "                 timestamp:int = 0,\n",
    "                 cur_hash:str = \"\",\n",
    "                 previous_hash:str = \"\",\n",
    "                 nonce:int = 0):\n",
    "        \n",
    "        self.index:int = index\n",
    "        self.transactions:list = transactions\n",
    "        self.timestamp = timestamp\n",
    "        self.hash:str = cur_hash\n",
    "        self.previous_hash:str = previous_hash\n",
    "        self.nonce:int = nonce\n",
    "            \n",
    "    def compute_hash(self) -> str:\n",
    "        block_string = json.dumps(self.__dict__, sort_keys=True)\n",
    "        return hashlib.sha256(block_string.encode()).hexdigest()"
   ]
  },
  {
   "cell_type": "code",
   "execution_count": 4,
   "id": "0a9e7dd3-cd1e-49cd-bcbe-1c3e64a3db03",
   "metadata": {},
   "outputs": [],
   "source": [
    "#Define Blockchain class\n",
    "#And Define it's constructor and properties.\n",
    "\n",
    "class Blockchain():     \n",
    "    def __init__(self):\n",
    "        self.unconfirmed_transactions:List[dict] = []  #mem-pool\n",
    "        self.chain:List[Block] = []\n",
    "        self.difficulty:int = 2\n",
    "        self.create_genesis_block()\n",
    "   \n",
    "    def get_last_block(self) -> Block:\n",
    "        return self.chain[-1]\n",
    "    \n",
    "    def create_genesis_block(self):\n",
    "        genesis_block = Block(index=0, transactions=[], timestamp=time.time(), previous_hash=\"0\")  \n",
    "        genesis_block.hash = genesis_block.compute_hash()\n",
    "        self.chain.append(genesis_block)\n",
    "        \n",
    "    def proof_of_work(self, block:Block) -> str:\n",
    "        computed_hash = block.compute_hash()\n",
    "        while not computed_hash.startswith('0' * self.difficulty):\n",
    "            block.nonce += 1\n",
    "            computed_hash = block.compute_hash()\n",
    "        return computed_hash\n",
    "        \n",
    "    def is_valid_proof(self, block:Block, block_hash:str) -> bool:\n",
    "        return block_hash.startswith('0' * self.difficulty) and block_hash == block.compute_hash()\n",
    "   \n",
    "    def add_block(self, block:Block, proof:str) -> bool:\n",
    "        last_block = self.get_last_block()\n",
    "        last_block.hash\n",
    "        \n",
    "        if last_block.hash != block.previous_hash:\n",
    "            return False\n",
    "        \n",
    "        if not self.is_valid_proof(block , proof):\n",
    "            return False \n",
    "    \n",
    "        block.hash = proof\n",
    "        self.chain.append(block)\n",
    "        \n",
    "        return True\n",
    "        \n",
    "        \n",
    "    def add_new_transaction(self, transaction:dict) -> None:\n",
    "        self.unconfirmed_transactions.append(transaction)\n",
    "        \n",
    "\n",
    "    def mine(self) -> int:\n",
    "        if len(self.unconfirmed_transactions)<1:\n",
    "            return -1\n",
    "        \n",
    "        last_block = self.get_last_block()\n",
    "#        self.unconfirmed_transactions.append(tx_1)#just for testing purposes.\n",
    "        \n",
    "        new_block = Block(index=last_block.index + 1,\n",
    "                         transactions=self.unconfirmed_transactions,\n",
    "                         timestamp=int(time.time()),\n",
    "                         previous_hash=last_block.hash)\n",
    " \n",
    "        proof = self.proof_of_work(new_block)\n",
    "    \n",
    "        self.add_block(new_block ,proof)\n",
    "        \n",
    "        self.unconfirmed_transactions = []\n",
    "        \n",
    "        return new_block.index\n",
    "\n",
    "\n",
    "\n",
    "    \n",
    "    "
   ]
  },
  {
   "cell_type": "code",
   "execution_count": 5,
   "id": "0d537001-8fc5-488c-aa6d-b14468cf5f57",
   "metadata": {},
   "outputs": [
    {
     "data": {
      "text/plain": [
       "[None, None, None]"
      ]
     },
     "execution_count": 5,
     "metadata": {},
     "output_type": "execute_result"
    }
   ],
   "source": [
    "#Generate some transactions\n",
    "\n",
    "bc = Blockchain()\n",
    "[bc.add_new_transaction(tx) for tx in [tx_1,tx_2,tx_3]]"
   ]
  },
  {
   "cell_type": "code",
   "execution_count": 6,
   "id": "398b485c-072b-4c68-8d77-688f1b8a0e36",
   "metadata": {},
   "outputs": [
    {
     "data": {
      "text/plain": [
       "[{'addr_from': '3J98t1WpEZ73CNmQviecrnyiWrnqRhWNLy',\n",
       "  'addr_to': '1BvBMSEYstWetqTFn5Au4m4GFg7xJaNVN2',\n",
       "  'amount': 99.0},\n",
       " {'addr_from': '1BvBMSEYstWetqTFn5Au4m4GFg7xJaNVN2',\n",
       "  'addr_to': '3J98t1WpEZ73CNmQviecrnyiWrnqRhWNLy',\n",
       "  'amount': 99.0},\n",
       " {'addr_from': 'FintechStudentAddr',\n",
       "  'addr_to': 'BlackBelts',\n",
       "  'amount': 9999.99}]"
      ]
     },
     "execution_count": 6,
     "metadata": {},
     "output_type": "execute_result"
    }
   ],
   "source": [
    "bc.unconfirmed_transactions"
   ]
  },
  {
   "cell_type": "code",
   "execution_count": 7,
   "id": "74e6040b-4a6f-462f-b9a2-50b68cdca638",
   "metadata": {},
   "outputs": [
    {
     "data": {
      "text/plain": [
       "{'index': 0,\n",
       " 'transactions': [],\n",
       " 'timestamp': 1639062079.525516,\n",
       " 'hash': 'a1416873b6f61a1eb48a1efe185e32b8850fcec43152aa4e67b743f5d6a553e9',\n",
       " 'previous_hash': '0',\n",
       " 'nonce': 0}"
      ]
     },
     "execution_count": 7,
     "metadata": {},
     "output_type": "execute_result"
    }
   ],
   "source": [
    "bc.chain[0].__dict__"
   ]
  },
  {
   "cell_type": "code",
   "execution_count": 8,
   "id": "5f17f153-28e5-4e81-b94d-01be0d27a70c",
   "metadata": {},
   "outputs": [
    {
     "data": {
      "text/plain": [
       "{'index': 0,\n",
       " 'transactions': [],\n",
       " 'timestamp': 1639062079.525516,\n",
       " 'hash': 'a1416873b6f61a1eb48a1efe185e32b8850fcec43152aa4e67b743f5d6a553e9',\n",
       " 'previous_hash': '0',\n",
       " 'nonce': 0}"
      ]
     },
     "execution_count": 8,
     "metadata": {},
     "output_type": "execute_result"
    }
   ],
   "source": [
    "bc.get_last_block().__dict__"
   ]
  },
  {
   "cell_type": "code",
   "execution_count": 9,
   "id": "27261a94-5312-4341-bfba-fd3a57d46e58",
   "metadata": {},
   "outputs": [
    {
     "data": {
      "text/plain": [
       "1"
      ]
     },
     "execution_count": 9,
     "metadata": {},
     "output_type": "execute_result"
    }
   ],
   "source": [
    "bc.mine()"
   ]
  },
  {
   "cell_type": "code",
   "execution_count": 10,
   "id": "4e97ad94-1c1f-4960-b965-1af7aae0ab6a",
   "metadata": {},
   "outputs": [
    {
     "data": {
      "text/plain": [
       "{'index': 1,\n",
       " 'transactions': [{'addr_from': '3J98t1WpEZ73CNmQviecrnyiWrnqRhWNLy',\n",
       "   'addr_to': '1BvBMSEYstWetqTFn5Au4m4GFg7xJaNVN2',\n",
       "   'amount': 99.0},\n",
       "  {'addr_from': '1BvBMSEYstWetqTFn5Au4m4GFg7xJaNVN2',\n",
       "   'addr_to': '3J98t1WpEZ73CNmQviecrnyiWrnqRhWNLy',\n",
       "   'amount': 99.0},\n",
       "  {'addr_from': 'FintechStudentAddr',\n",
       "   'addr_to': 'BlackBelts',\n",
       "   'amount': 9999.99}],\n",
       " 'timestamp': 1639062079,\n",
       " 'hash': '007c8224c890758c547b27988c973bb6ec2a0982bb2d97bf7236df2ebb852374',\n",
       " 'previous_hash': 'a1416873b6f61a1eb48a1efe185e32b8850fcec43152aa4e67b743f5d6a553e9',\n",
       " 'nonce': 210}"
      ]
     },
     "execution_count": 10,
     "metadata": {},
     "output_type": "execute_result"
    }
   ],
   "source": [
    "bc.get_last_block().__dict__"
   ]
  },
  {
   "cell_type": "code",
   "execution_count": 11,
   "id": "6141936b-8f24-4de8-b8bd-b63d031b89c0",
   "metadata": {},
   "outputs": [
    {
     "data": {
      "text/plain": [
       "[None, None, None]"
      ]
     },
     "execution_count": 11,
     "metadata": {},
     "output_type": "execute_result"
    }
   ],
   "source": [
    "[bc.add_new_transaction(tx) for tx in [{\"FintechData1\":\"SomeInsuranceStuff\"},{\"FintechData2\":\"SomeCapitalMarketStuff\"},{\"FintechData3\":\"SomePaymentsStuff\"}]]\n",
    " \n",
    " "
   ]
  },
  {
   "cell_type": "code",
   "execution_count": 12,
   "id": "1f81e400-f81d-4e9d-9f49-9a3a1a263d92",
   "metadata": {},
   "outputs": [
    {
     "data": {
      "text/plain": [
       "[{'FintechData1': 'SomeInsuranceStuff'},\n",
       " {'FintechData2': 'SomeCapitalMarketStuff'},\n",
       " {'FintechData3': 'SomePaymentsStuff'}]"
      ]
     },
     "execution_count": 12,
     "metadata": {},
     "output_type": "execute_result"
    }
   ],
   "source": [
    "bc.unconfirmed_transactions"
   ]
  },
  {
   "cell_type": "code",
   "execution_count": 13,
   "id": "4d0ec1c0-7192-4e95-8cc9-c895fee3490f",
   "metadata": {},
   "outputs": [
    {
     "data": {
      "text/plain": [
       "2"
      ]
     },
     "execution_count": 13,
     "metadata": {},
     "output_type": "execute_result"
    }
   ],
   "source": [
    "bc.mine()"
   ]
  },
  {
   "cell_type": "code",
   "execution_count": 14,
   "id": "97cc3695-0c37-4fba-829f-8b320f06c0b4",
   "metadata": {},
   "outputs": [
    {
     "data": {
      "text/plain": [
       "{'index': 2,\n",
       " 'transactions': [{'FintechData1': 'SomeInsuranceStuff'},\n",
       "  {'FintechData2': 'SomeCapitalMarketStuff'},\n",
       "  {'FintechData3': 'SomePaymentsStuff'}],\n",
       " 'timestamp': 1639062079,\n",
       " 'hash': '00448a02dc9ba23a4d8aa6ed63b13b21210cb70d9498f476d83db89ee96b9d5e',\n",
       " 'previous_hash': '007c8224c890758c547b27988c973bb6ec2a0982bb2d97bf7236df2ebb852374',\n",
       " 'nonce': 858}"
      ]
     },
     "execution_count": 14,
     "metadata": {},
     "output_type": "execute_result"
    }
   ],
   "source": [
    "bc.get_last_block().__dict__"
   ]
  },
  {
   "cell_type": "code",
   "execution_count": 15,
   "id": "83465539-16d6-4a89-8c28-ce717aca2e35",
   "metadata": {},
   "outputs": [
    {
     "data": {
      "text/plain": [
       "'0267061eb16c636898bb6afeefc4959a18d5210d0415e315d29f2db21d048782'"
      ]
     },
     "execution_count": 15,
     "metadata": {},
     "output_type": "execute_result"
    }
   ],
   "source": [
    "b = Block()\n",
    "b.compute_hash()"
   ]
  }
 ],
 "metadata": {
  "kernelspec": {
   "display_name": "Python 3",
   "language": "python",
   "name": "python3"
  },
  "language_info": {
   "codemirror_mode": {
    "name": "ipython",
    "version": 3
   },
   "file_extension": ".py",
   "mimetype": "text/x-python",
   "name": "python",
   "nbconvert_exporter": "python",
   "pygments_lexer": "ipython3",
   "version": "3.8.8"
  }
 },
 "nbformat": 4,
 "nbformat_minor": 5
}
